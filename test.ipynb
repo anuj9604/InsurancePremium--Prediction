{
 "cells": [
  {
   "cell_type": "code",
   "execution_count": 1,
   "metadata": {},
   "outputs": [],
   "source": [
    "import numpy as np\n",
    "import pandas as pd"
   ]
  },
  {
   "cell_type": "code",
   "execution_count": 5,
   "metadata": {},
   "outputs": [],
   "source": [
    "datoo = np.load(r\"E:\\Python Scripts\\iNeuron.ai\\ML\\End to End Projects\\Insurance Premium Prediction\\premium\\artifacts\\data_transformation\\2022-11-11=11-12-25\\transformed_data\\test\\insurance.npz\", allow_pickle=True)        # data contains x = [1,2,3,4,5] "
   ]
  },
  {
   "cell_type": "code",
   "execution_count": 6,
   "metadata": {},
   "outputs": [
    {
     "data": {
      "text/plain": [
       "array([[35, 23.5, 0.0, 6402.29],\n",
       "       [62, 38.1, 0.0, 15230.32],\n",
       "       [31, 30.5, 0.0, 6113.23],\n",
       "       ...,\n",
       "       [33, 35.8, 1.0, 38282.75],\n",
       "       [21, 29.0, 0.0, 1906.36],\n",
       "       [54, 34.2, 1.0, 44260.75]], dtype=object)"
      ]
     },
     "execution_count": 6,
     "metadata": {},
     "output_type": "execute_result"
    }
   ],
   "source": [
    "datoo"
   ]
  },
  {
   "cell_type": "code",
   "execution_count": 26,
   "metadata": {},
   "outputs": [
    {
     "data": {
      "text/plain": [
       "array([[18, 17.3, 1.0, 12829.46],\n",
       "       [55, 32.8, 0.0, 12268.63],\n",
       "       [56, 28.3, 0.0, 11657.72],\n",
       "       ...,\n",
       "       [23, 31.4, 1.0, 34166.27],\n",
       "       [49, 23.8, 1.0, 24106.91],\n",
       "       [53, 22.6, 1.0, 24873.38]], dtype=object)"
      ]
     },
     "execution_count": 26,
     "metadata": {},
     "output_type": "execute_result"
    }
   ],
   "source": []
  },
  {
   "cell_type": "code",
   "execution_count": null,
   "metadata": {},
   "outputs": [],
   "source": []
  }
 ],
 "metadata": {
  "kernelspec": {
   "display_name": "Python 3.9.7 ('base')",
   "language": "python",
   "name": "python3"
  },
  "language_info": {
   "codemirror_mode": {
    "name": "ipython",
    "version": 3
   },
   "file_extension": ".py",
   "mimetype": "text/x-python",
   "name": "python",
   "nbconvert_exporter": "python",
   "pygments_lexer": "ipython3",
   "version": "3.9.7"
  },
  "orig_nbformat": 4,
  "vscode": {
   "interpreter": {
    "hash": "23bf0724a01b6ea9814e66f76182ea78c0ee849a72ca257c0e116bf83bb4960a"
   }
  }
 },
 "nbformat": 4,
 "nbformat_minor": 2
}
