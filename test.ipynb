{
 "cells": [
  {
   "cell_type": "code",
   "execution_count": 10,
   "metadata": {},
   "outputs": [],
   "source": [
    "csv_url=\"https://raw.githubusercontent.com/anuj9604/InsurancePremium--Prediction/main/Dataset/insurance.csv\""
   ]
  },
  {
   "cell_type": "code",
   "execution_count": 16,
   "metadata": {},
   "outputs": [],
   "source": [
    "import requests"
   ]
  },
  {
   "cell_type": "code",
   "execution_count": 19,
   "metadata": {},
   "outputs": [],
   "source": [
    "req=requests.get(csv_url)\n",
    "content=req.content\n",
    "with open(\".\\\\testing\\\\testing\\\\test_csv.csv\", \"w\") as filo:\n",
    "    filo.write(content.decode(\"utf-8\"))"
   ]
  },
  {
   "cell_type": "code",
   "execution_count": 1,
   "metadata": {},
   "outputs": [
    {
     "data": {
      "text/plain": [
       "('e:\\\\Python Scripts\\\\iNeuron.ai\\\\ML\\\\End to End Projects\\\\Insurance Premium Prediction\\\\premium\\\\artifacts\\\\data_ingestion\\\\2022-10-01=10-26-08\\\\ingested_data\\\\train\\\\insurance.csv',\n",
       " 'e:\\\\Python Scripts\\\\iNeuron.ai\\\\ML\\\\End to End Projects\\\\Insurance Premium Prediction\\\\premium\\\\artifacts\\\\data_ingestion\\\\2022-10-01=10-26-08\\\\ingested_data\\\\test\\\\insurance.csv')"
      ]
     },
     "execution_count": 1,
     "metadata": {},
     "output_type": "execute_result"
    }
   ],
   "source": [
    "from premium.config.configuration import *\n",
    "from premium.component.data_ingestion import *\n",
    "\n",
    "obj=Configuration()\n",
    "di_obj=obj.get_data_ingestion_config()\n",
    "DI=DataIngestion(di_obj)\n",
    "DI.initiate_data_ingestion()"
   ]
  },
  {
   "cell_type": "code",
   "execution_count": null,
   "metadata": {},
   "outputs": [],
   "source": []
  }
 ],
 "metadata": {
  "kernelspec": {
   "display_name": "Python 3.9.7 ('base')",
   "language": "python",
   "name": "python3"
  },
  "language_info": {
   "codemirror_mode": {
    "name": "ipython",
    "version": 3
   },
   "file_extension": ".py",
   "mimetype": "text/x-python",
   "name": "python",
   "nbconvert_exporter": "python",
   "pygments_lexer": "ipython3",
   "version": "3.9.7"
  },
  "orig_nbformat": 4,
  "vscode": {
   "interpreter": {
    "hash": "23bf0724a01b6ea9814e66f76182ea78c0ee849a72ca257c0e116bf83bb4960a"
   }
  }
 },
 "nbformat": 4,
 "nbformat_minor": 2
}
