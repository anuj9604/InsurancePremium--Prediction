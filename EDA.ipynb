{
 "cells": [
  {
   "cell_type": "code",
   "execution_count": 1,
   "id": "bad12232",
   "metadata": {},
   "outputs": [],
   "source": [
    "import pandas as pd\n",
    "import numpy as np"
   ]
  },
  {
   "cell_type": "code",
   "execution_count": 2,
   "id": "25f9d715",
   "metadata": {},
   "outputs": [],
   "source": [
    "import matplotlib as plt\n",
    "%matplotlib inline\n",
    "import seaborn as sns"
   ]
  },
  {
   "cell_type": "code",
   "execution_count": 3,
   "id": "2c304b62",
   "metadata": {},
   "outputs": [],
   "source": [
    "df=pd.read_csv(\"./SCMS_Delivery_History_Dataset.csv/SCMS_Delivery_History_Dataset.csv\")"
   ]
  },
  {
   "cell_type": "markdown",
   "id": "a6e5f389",
   "metadata": {},
   "source": [
    "# EDA\n",
    "\n",
    "\n",
    "#### We will analyze the below stuff\n",
    "\n",
    "* Missing values\n",
    "* Listing all the numerical variables\n",
    "* Distribution of the numerical variables\n",
    "* Categorical Variables\n",
    "* Outliers\n",
    "* Relationship between independent and dependent features\n",
    "* Correlation"
   ]
  },
  {
   "cell_type": "code",
   "execution_count": 12,
   "id": "26fe9020",
   "metadata": {},
   "outputs": [
    {
     "data": {
      "text/plain": [
       "ID                                 0\n",
       "Project Code                       0\n",
       "PQ #                               0\n",
       "PO / SO #                          0\n",
       "ASN/DN #                           0\n",
       "Country                            0\n",
       "Managed By                         0\n",
       "Fulfill Via                        0\n",
       "Vendor INCO Term                   0\n",
       "Shipment Mode                    360\n",
       "PQ First Sent to Client Date       0\n",
       "PO Sent to Vendor Date             0\n",
       "Scheduled Delivery Date            0\n",
       "Delivered to Client Date           0\n",
       "Delivery Recorded Date             0\n",
       "Product Group                      0\n",
       "Sub Classification                 0\n",
       "Vendor                             0\n",
       "Item Description                   0\n",
       "Molecule/Test Type                 0\n",
       "Brand                              0\n",
       "Dosage                          1736\n",
       "Dosage Form                        0\n",
       "Unit of Measure (Per Pack)         0\n",
       "Line Item Quantity                 0\n",
       "Line Item Value                    0\n",
       "Pack Price                         0\n",
       "Unit Price                         0\n",
       "Manufacturing Site                 0\n",
       "First Line Designation             0\n",
       "Weight (Kilograms)                 0\n",
       "Freight Cost (USD)                 0\n",
       "Line Item Insurance (USD)        287\n",
       "dtype: int64"
      ]
     },
     "execution_count": 12,
     "metadata": {},
     "output_type": "execute_result"
    }
   ],
   "source": [
    "df.isnull().sum()"
   ]
  },
  {
   "cell_type": "code",
   "execution_count": 17,
   "id": "a9fd898d",
   "metadata": {},
   "outputs": [
    {
     "data": {
      "text/plain": [
       "Index(['ID', 'Project Code', 'PQ #', 'PO / SO #', 'ASN/DN #', 'Country',\n",
       "       'Managed By', 'Fulfill Via', 'Vendor INCO Term', 'Shipment Mode',\n",
       "       'PQ First Sent to Client Date', 'PO Sent to Vendor Date',\n",
       "       'Scheduled Delivery Date', 'Delivered to Client Date',\n",
       "       'Delivery Recorded Date', 'Product Group', 'Sub Classification',\n",
       "       'Vendor', 'Item Description', 'Molecule/Test Type', 'Brand', 'Dosage',\n",
       "       'Dosage Form', 'Unit of Measure (Per Pack)', 'Line Item Quantity',\n",
       "       'Line Item Value', 'Pack Price', 'Unit Price', 'Manufacturing Site',\n",
       "       'First Line Designation', 'Weight (Kilograms)', 'Freight Cost (USD)',\n",
       "       'Line Item Insurance (USD)'],\n",
       "      dtype='object')"
      ]
     },
     "execution_count": 17,
     "metadata": {},
     "output_type": "execute_result"
    }
   ],
   "source": [
    "df.columns"
   ]
  },
  {
   "cell_type": "code",
   "execution_count": 23,
   "id": "73d91836",
   "metadata": {},
   "outputs": [
    {
     "data": {
      "text/html": [
       "<div>\n",
       "<style scoped>\n",
       "    .dataframe tbody tr th:only-of-type {\n",
       "        vertical-align: middle;\n",
       "    }\n",
       "\n",
       "    .dataframe tbody tr th {\n",
       "        vertical-align: top;\n",
       "    }\n",
       "\n",
       "    .dataframe thead th {\n",
       "        text-align: right;\n",
       "    }\n",
       "</style>\n",
       "<table border=\"1\" class=\"dataframe\">\n",
       "  <thead>\n",
       "    <tr style=\"text-align: right;\">\n",
       "      <th></th>\n",
       "      <th>Managed By</th>\n",
       "      <th>Fulfill Via</th>\n",
       "    </tr>\n",
       "  </thead>\n",
       "  <tbody>\n",
       "    <tr>\n",
       "      <th>0</th>\n",
       "      <td>PMO - US</td>\n",
       "      <td>Direct Drop</td>\n",
       "    </tr>\n",
       "    <tr>\n",
       "      <th>1</th>\n",
       "      <td>PMO - US</td>\n",
       "      <td>Direct Drop</td>\n",
       "    </tr>\n",
       "    <tr>\n",
       "      <th>2</th>\n",
       "      <td>PMO - US</td>\n",
       "      <td>Direct Drop</td>\n",
       "    </tr>\n",
       "    <tr>\n",
       "      <th>3</th>\n",
       "      <td>PMO - US</td>\n",
       "      <td>Direct Drop</td>\n",
       "    </tr>\n",
       "    <tr>\n",
       "      <th>4</th>\n",
       "      <td>PMO - US</td>\n",
       "      <td>Direct Drop</td>\n",
       "    </tr>\n",
       "    <tr>\n",
       "      <th>...</th>\n",
       "      <td>...</td>\n",
       "      <td>...</td>\n",
       "    </tr>\n",
       "    <tr>\n",
       "      <th>10319</th>\n",
       "      <td>PMO - US</td>\n",
       "      <td>From RDC</td>\n",
       "    </tr>\n",
       "    <tr>\n",
       "      <th>10320</th>\n",
       "      <td>PMO - US</td>\n",
       "      <td>From RDC</td>\n",
       "    </tr>\n",
       "    <tr>\n",
       "      <th>10321</th>\n",
       "      <td>PMO - US</td>\n",
       "      <td>From RDC</td>\n",
       "    </tr>\n",
       "    <tr>\n",
       "      <th>10322</th>\n",
       "      <td>PMO - US</td>\n",
       "      <td>From RDC</td>\n",
       "    </tr>\n",
       "    <tr>\n",
       "      <th>10323</th>\n",
       "      <td>PMO - US</td>\n",
       "      <td>From RDC</td>\n",
       "    </tr>\n",
       "  </tbody>\n",
       "</table>\n",
       "<p>10324 rows × 2 columns</p>\n",
       "</div>"
      ],
      "text/plain": [
       "      Managed By  Fulfill Via\n",
       "0       PMO - US  Direct Drop\n",
       "1       PMO - US  Direct Drop\n",
       "2       PMO - US  Direct Drop\n",
       "3       PMO - US  Direct Drop\n",
       "4       PMO - US  Direct Drop\n",
       "...          ...          ...\n",
       "10319   PMO - US     From RDC\n",
       "10320   PMO - US     From RDC\n",
       "10321   PMO - US     From RDC\n",
       "10322   PMO - US     From RDC\n",
       "10323   PMO - US     From RDC\n",
       "\n",
       "[10324 rows x 2 columns]"
      ]
     },
     "execution_count": 23,
     "metadata": {},
     "output_type": "execute_result"
    }
   ],
   "source": [
    "df[['Managed By', 'Fulfill Via']]"
   ]
  },
  {
   "cell_type": "code",
   "execution_count": null,
   "id": "c663a2a7",
   "metadata": {},
   "outputs": [],
   "source": []
  }
 ],
 "metadata": {
  "kernelspec": {
   "display_name": "Python 3 (ipykernel)",
   "language": "python",
   "name": "python3"
  },
  "language_info": {
   "codemirror_mode": {
    "name": "ipython",
    "version": 3
   },
   "file_extension": ".py",
   "mimetype": "text/x-python",
   "name": "python",
   "nbconvert_exporter": "python",
   "pygments_lexer": "ipython3",
   "version": "3.9.7"
  }
 },
 "nbformat": 4,
 "nbformat_minor": 5
}
